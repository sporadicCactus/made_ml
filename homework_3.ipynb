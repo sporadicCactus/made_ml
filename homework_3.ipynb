{
 "cells": [
  {
   "cell_type": "code",
   "execution_count": 33,
   "metadata": {},
   "outputs": [],
   "source": [
    "import torch\n",
    "from torch.nn import functional as F\n",
    "import numpy as np\n",
    "\n",
    "import pickle\n",
    "from os import path\n",
    "import datetime\n",
    "from sklearn.linear_model import LinearRegression\n",
    "from scipy.stats import spearmanr, kendalltau\n",
    "\n",
    "import time\n",
    "from IPython.display import clear_output\n",
    "from copy import deepcopy\n",
    "\n",
    "from collections import defaultdict, OrderedDict\n",
    "\n",
    "from matplotlib import pyplot as plt"
   ]
  },
  {
   "cell_type": "code",
   "execution_count": 2,
   "metadata": {},
   "outputs": [],
   "source": [
    "with open('players.pkl', 'rb') as fp:\n",
    "    players = pickle.load(fp)\n",
    "with open('results.pkl', 'rb') as fp:\n",
    "    results = pickle.load(fp)\n",
    "with open('tournaments.pkl', 'rb') as fp:\n",
    "    tournaments = pickle.load(fp)"
   ]
  },
  {
   "cell_type": "code",
   "execution_count": 3,
   "metadata": {},
   "outputs": [],
   "source": [
    "tournaments = [tournament for tournament in tournaments.values() if int(tournament['dateStart'][:4]) >= 2019]\n",
    "tournaments.sort(key = lambda x: datetime.datetime.strptime(x['dateStart'][:10], '%Y-%m-%d'))"
   ]
  },
  {
   "cell_type": "markdown",
   "metadata": {},
   "source": [
    "Некоторые турниры проходят в несколько раундов, а потому у разных команд разные длины \"масок\". Такие турниры будет разбивать на несколько \"независимых\" турниров с разными составами команд, но фиксированным количеством вопросов в каждом турнире."
   ]
  },
  {
   "cell_type": "code",
   "execution_count": 4,
   "metadata": {},
   "outputs": [],
   "source": [
    "def split_result(result):\n",
    "    if len(result) == 0:\n",
    "        return []\n",
    "    \n",
    "    mask_lens = [len(x['mask']) for x in result]\n",
    "    if min(mask_lens) == max(mask_lens):\n",
    "        return [result]\n",
    "    \n",
    "    min_len = min(mask_lens)\n",
    "    \n",
    "    new_result = []\n",
    "    for team in result:\n",
    "        if len(team['mask']) > min_len:\n",
    "            new_team = deepcopy(team)\n",
    "            new_team['mask'] = team['mask'][min_len:]\n",
    "            team['mask'] = team['mask'][:min_len]\n",
    "            new_result.append(new_team)\n",
    "            \n",
    "    return [result] + split_result(new_result)"
   ]
  },
  {
   "cell_type": "code",
   "execution_count": 27,
   "metadata": {},
   "outputs": [],
   "source": [
    "results_train = []\n",
    "results_test = []\n",
    "results_train_ids = []\n",
    "\n",
    "for tmnt in tournaments:\n",
    "    result = results[tmnt['id']]\n",
    "    \n",
    "    if tmnt['dateStart'][:4] == '2020':\n",
    "        results_test.append(result)\n",
    "        continue\n",
    "        \n",
    "    result = [{'mask': team.get('mask'),\n",
    "               'teamMembers': [member['player']['id'] for member in team['teamMembers']]}\\\n",
    "                 for team in result]\n",
    "        \n",
    "    result = list(filter(lambda x: (x.get('mask') is not None) and (len(x['teamMembers']) > 0), result))\n",
    "    for team in result:\n",
    "        team['mask'] = [1 if char=='1' else 0 for char in team['mask']]\n",
    "    \n",
    "    split_results = split_result(result)\n",
    "    split_results = list(filter(lambda x: len(x) > 1, split_results))\n",
    "    \n",
    "    results_train += split_results\n",
    "    results_train_ids += [tmnt['id']]*len(split_results)"
   ]
  },
  {
   "cell_type": "code",
   "execution_count": 6,
   "metadata": {},
   "outputs": [],
   "source": [
    "players_in_train = set()\n",
    "for res in results_train:\n",
    "    for team in res:\n",
    "        for member in team['teamMembers']:\n",
    "            players_in_train.add(member)\n",
    "players_in_train = {key: value for key, value in players.items() if key in players_in_train}"
   ]
  },
  {
   "cell_type": "markdown",
   "metadata": {},
   "source": [
    "Скоры игроков будут хранится в векторе, и потребуется словарь для перевода id в индекс и обратно."
   ]
  },
  {
   "cell_type": "code",
   "execution_count": 7,
   "metadata": {},
   "outputs": [],
   "source": [
    "player_num_to_id = list(players_in_train.keys())\n",
    "player_id_to_num = {id_: num for num, id_ in enumerate(player_num_to_id)}"
   ]
  },
  {
   "cell_type": "markdown",
   "metadata": {},
   "source": [
    "Для бейзлайна считаем, что ответ команды == ответ игрока."
   ]
  },
  {
   "cell_type": "code",
   "execution_count": 8,
   "metadata": {},
   "outputs": [],
   "source": [
    "def expect_answers_naive(result):\n",
    "    answers = []\n",
    "    for team in result:\n",
    "        for member in team['teamMembers']:\n",
    "            answers.append(team['mask'])\n",
    "            \n",
    "    return answers"
   ]
  },
  {
   "cell_type": "code",
   "execution_count": 9,
   "metadata": {},
   "outputs": [],
   "source": [
    "def log_loss(player_scores, question_scores, answers):\n",
    "    with torch.no_grad():\n",
    "        a = player_scores[:,None] - question_scores[None,:]\n",
    "        a = answers*F.softplus(-a) + (1 - answers)*F.softplus(a)\n",
    "    return a.sum()\n",
    "\n",
    "def log_grad(player_scores, question_scores, answers):\n",
    "    with torch.no_grad():\n",
    "        a = player_scores[:,None] - question_scores[None,:]\n",
    "        a = torch.sigmoid(a) - answers\n",
    "        player_grads = a.sum(dim = 1)\n",
    "        question_grads = - a.sum(dim = 0)\n",
    "    return player_grads, question_grads\n",
    "\n",
    "def full_loss(player_scores, data):\n",
    "    loss = 0.\n",
    "    for dt in data:\n",
    "        loss += log_loss(player_scores[dt['player_nums']], dt['question_scores'], dt['answers'])\\\n",
    "            /(dt['answers'].shape[0]*dt['answers'].shape[1])\n",
    "        \n",
    "    return loss/len(data)\n",
    "\n",
    "def full_grad(player_scores, data):\n",
    "    player_scores_grad = torch.zeros_like(player_scores)\n",
    "    player_question_pairs = 0\n",
    "    for dt in data:\n",
    "        n_pairs = dt['answers'].shape[0]*dt['answers'].shape[1] \n",
    "        player_grads, question_grads =\\\n",
    "            log_grad(player_scores[dt['player_nums']], dt['question_scores'], dt['answers'])\n",
    "        player_grads /= n_pairs*len(data)\n",
    "        question_grads /= n_pairs*len(data)\n",
    "        dt['question_scores'].grad = question_grads\n",
    "        player_scores_grad[dt['player_nums']] += player_grads\n",
    "        \n",
    "    return player_scores_grad"
   ]
  },
  {
   "cell_type": "code",
   "execution_count": 73,
   "metadata": {},
   "outputs": [],
   "source": [
    "player_scores = torch.nn.Parameter(torch.randn(len(player_id_to_num)).float())\n",
    "data_train = []\n",
    "for result in results_train:\n",
    "    answers = torch.FloatTensor(expect_answers_naive(result))\n",
    "    question_scores = torch.nn.Parameter(torch.randn(answers.shape[1]).float())\n",
    "    player_nums = []\n",
    "    for team in result:\n",
    "        player_nums += [player_id_to_num[p_id] for p_id in team['teamMembers']]\n",
    "    player_nums = torch.tensor(player_nums)\n",
    "    data_train.append({\n",
    "        'answers': answers,\n",
    "        'question_scores': question_scores,\n",
    "        'player_nums': player_nums,\n",
    "    })"
   ]
  },
  {
   "cell_type": "code",
   "execution_count": 74,
   "metadata": {},
   "outputs": [],
   "source": [
    "params = [player_scores] + [dt['question_scores'] for dt in data_train]\n",
    "opt = torch.optim.Adam(params, lr=1e-1)"
   ]
  },
  {
   "cell_type": "markdown",
   "metadata": {},
   "source": [
    "Оптимизируем лосс:"
   ]
  },
  {
   "cell_type": "code",
   "execution_count": 75,
   "metadata": {},
   "outputs": [],
   "source": [
    "initial_grad_norm = None\n",
    "max_iter = 100\n",
    "eps = 1e-3\n",
    "    \n",
    "for _ in range(max_iter):\n",
    "    opt.zero_grad()\n",
    "    \n",
    "    player_scores.grad = full_grad(player_scores, data_train)\n",
    "    \n",
    "    grad_norm = torch.sqrt(sum([(p.grad**2).sum() for p in params]))\n",
    "    if initial_grad_norm is None:\n",
    "        initial_grad_norm = grad_norm\n",
    "    \n",
    "    opt.step()\n",
    "    if grad_norm/initial_grad_norm < eps:\n",
    "        break"
   ]
  },
  {
   "cell_type": "code",
   "execution_count": 76,
   "metadata": {},
   "outputs": [],
   "source": [
    "av_question_scores = np.array([dt['question_scores'].detach().numpy().mean() for dt in data_train])\n",
    "av_player_scores = np.array([player_scores[dt['player_nums']].detach().numpy().mean() for dt in data_train])"
   ]
  },
  {
   "cell_type": "code",
   "execution_count": 77,
   "metadata": {},
   "outputs": [],
   "source": [
    "player_scores = player_scores.detach().numpy()"
   ]
  },
  {
   "cell_type": "code",
   "execution_count": 78,
   "metadata": {},
   "outputs": [
    {
     "data": {
      "image/png": "[encoded data removed]",
      "text/plain": [
       "<Figure size 432x288 with 1 Axes>"
      ]
     },
     "metadata": {
      "needs_background": "light"
     },
     "output_type": "display_data"
    }
   ],
   "source": [
    "plt.scatter(av_question_scores, av_player_scores)\n",
    "plt.title('Распределение средних оценок игроков и вопросов в турнирах')\n",
    "plt.xlabel('Сложность вопросов')\n",
    "plt.ylabel('Сила игроков')\n",
    "plt.show()"
   ]
  },
  {
   "cell_type": "markdown",
   "metadata": {},
   "source": [
    "Можно увидеть, что средний уровень игроков в турнире неплохо предсказывает среднюю сложность вопросов в этом турнире. Это можно использовать для предсказания исходов турниров на тестовом множестве.\n",
    "\n",
    "Будем считать, что команда отвечает на вопрос правильно, если хотя бы один игрок в команде отвечает правильно. В таком случае чем больше число ($s_i$ --- скоры отдельных игроков, $d$ --- сложность вопроса)\n",
    "\\begin{equation}\n",
    "    r = \\sum\\limits_{i=1}^{m}\\log \\left(1 + \\exp(s_i - d)\\right),\n",
    "\\end{equation}\n",
    "тем лучше команда выступит. В пределе $d \\rightarrow -\\infty$ сравнение чисел $r$ переходит в сравнение сумм скоров игроков, в пределе $d \\rightarrow +\\infty$ --- в сравнение сумм экспонент скоров игроков. Что в принципе логично: простые вопросы можно задавить \"массой\", а вот на сложных вклад самого \"умного\" игрока возрастает."
   ]
  },
  {
   "cell_type": "markdown",
   "metadata": {},
   "source": [
    "Будем предсказывать сложности вопросов на турнире при помощи линейной регрессии."
   ]
  },
  {
   "cell_type": "code",
   "execution_count": 79,
   "metadata": {},
   "outputs": [],
   "source": [
    "lin_reg = LinearRegression()\n",
    "lin_reg.fit(av_player_scores[:,None], av_question_scores)\n",
    "\n",
    "def predict_difficulty(av_player_score):\n",
    "    return lin_reg.coef_*av_player_score + lin_reg.intercept_"
   ]
  },
  {
   "cell_type": "code",
   "execution_count": 80,
   "metadata": {},
   "outputs": [],
   "source": [
    "av_player_score = player_scores.mean()"
   ]
  },
  {
   "cell_type": "code",
   "execution_count": 81,
   "metadata": {},
   "outputs": [],
   "source": [
    "def compute_metric(player_scores, results_test, corr_metric, scores_to_rank_func=lambda x: [-sum(x_) for x_ in x]):\n",
    "    corrs = []\n",
    "    for result in results_test:\n",
    "        if len(result) == 0:\n",
    "            continue\n",
    "        \n",
    "        try:\n",
    "            true_ranks = [team['position'] for team in result]\n",
    "        except:\n",
    "            true_ranks = range(len(result))\n",
    "            \n",
    "        if min(true_ranks) == max(true_ranks):\n",
    "            continue\n",
    "\n",
    "        scores = []\n",
    "        av_player_score = player_scores.mean()\n",
    "        for team in result:\n",
    "            team_scores = []\n",
    "            for member in team['teamMembers']:\n",
    "                player_id = member['player']['id']\n",
    "                if player_id in player_id_to_num.keys():\n",
    "                    team_scores.append(player_scores[player_id_to_num[player_id]])\n",
    "                else:\n",
    "                    team_scores.append(av_player_score)\n",
    "            scores.append(team_scores)\n",
    "        \n",
    "        pred_ranks = scores_to_rank_func(scores)\n",
    "        corrs.append(corr_metric(true_ranks, pred_ranks).correlation)\n",
    "        \n",
    "    return sum(corrs)/len(corrs)"
   ]
  },
  {
   "cell_type": "code",
   "execution_count": 82,
   "metadata": {},
   "outputs": [],
   "source": [
    "def scores_to_ranks(scores):\n",
    "    av_p_score = []\n",
    "    for s in scores:\n",
    "        av_p_score += s\n",
    "    av_p_score = sum(av_p_score)/len(av_p_score)\n",
    "    \n",
    "    diff = predict_difficulty(av_p_score)\n",
    "    \n",
    "    ranks = []\n",
    "    for s in scores:\n",
    "        s = torch.tensor(s)\n",
    "        ranks.append(-F.softplus(s - diff).sum().item())\n",
    "        \n",
    "    return ranks"
   ]
  },
  {
   "cell_type": "markdown",
   "metadata": {},
   "source": [
    "Вычислим разные метрики, при этом ранжируя команды как \"наивным\" способом (используя суммы скоров игроков), так и при помощи описанного выше метода."
   ]
  },
  {
   "cell_type": "code",
   "execution_count": 83,
   "metadata": {},
   "outputs": [
    {
     "data": {
      "text/plain": [
       "0.719097670084765"
      ]
     },
     "execution_count": 83,
     "metadata": {},
     "output_type": "execute_result"
    }
   ],
   "source": [
    "compute_metric(player_scores, results_test, spearmanr)"
   ]
  },
  {
   "cell_type": "code",
   "execution_count": 84,
   "metadata": {},
   "outputs": [
    {
     "data": {
      "text/plain": [
       "0.7597160809027229"
      ]
     },
     "execution_count": 84,
     "metadata": {},
     "output_type": "execute_result"
    }
   ],
   "source": [
    "compute_metric(player_scores, results_test, spearmanr, scores_to_ranks)"
   ]
  },
  {
   "cell_type": "code",
   "execution_count": 85,
   "metadata": {},
   "outputs": [
    {
     "data": {
      "text/plain": [
       "0.5631680538528733"
      ]
     },
     "execution_count": 85,
     "metadata": {},
     "output_type": "execute_result"
    }
   ],
   "source": [
    "compute_metric(player_scores, results_test, kendalltau)"
   ]
  },
  {
   "cell_type": "code",
   "execution_count": 86,
   "metadata": {},
   "outputs": [
    {
     "data": {
      "text/plain": [
       "0.6042253659319489"
      ]
     },
     "execution_count": 86,
     "metadata": {},
     "output_type": "execute_result"
    }
   ],
   "source": [
    "compute_metric(player_scores, results_test, kendalltau, scores_to_ranks)"
   ]
  },
  {
   "cell_type": "markdown",
   "metadata": {},
   "source": [
    "-------------------------------------------------------------"
   ]
  },
  {
   "cell_type": "markdown",
   "metadata": {},
   "source": [
    "В EM алгоритме в качестве скрытых переменных будем вводить ответы каждого игрока в отдельности. M-шаг алгоритма остаётся тем же, что и в бейзлайне. На E-шаге нужно оценить вероятность того, что игрок дал правильный ответ на вопрос при условии скора игрока $s$, сложности вопроса $d$ и того, какой ответ в целом дала команда.\n",
    "\n",
    "Как говорилось ранее, если команда дала неверный ответ, то игрок точно дал неверный ответ, т.е. $\\mathbb{E}z(s,d,y=0) = 0$. Если же команда дала правильный ответ,\n",
    "\\begin{equation}\n",
    "    \\mathbb{E}z_i(y=1) = \\mathbb{E} p(z_i = 1, z_{j\\neq i}|\\sum\\limits_{k=0}^{m} z_k > 0)\n",
    "        = \\frac{p(z_i = 1)}{1 - p(\\sum z_k = 0)}\n",
    "\\end{equation}"
   ]
  },
  {
   "cell_type": "code",
   "execution_count": 12,
   "metadata": {},
   "outputs": [],
   "source": [
    "def update_answer_expectations(player_scores, data, results):\n",
    "    with torch.no_grad():\n",
    "        for result, dt in zip(results, data):\n",
    "            team_sizes = [len(team['teamMembers']) for team in result]\n",
    "            q_s = dt['question_scores']\n",
    "            new_answers = []\n",
    "            for team in result:\n",
    "                mask = torch.tensor(team['mask'])\n",
    "                player_nums = torch.tensor([player_id_to_num[p_id] for p_id in team['teamMembers']])\n",
    "                p_s = player_scores[player_nums]\n",
    "                expected_answers = torch.sigmoid(p_s[:,None] - q_s[None,:])\n",
    "                expected_answers = expected_answers/(1 - (1 - expected_answers).prod(dim=0))\n",
    "                expected_answers = expected_answers*mask[None,:]\n",
    "                \n",
    "                new_answers.append(expected_answers)\n",
    "                \n",
    "            new_answers = torch.cat(new_answers, dim=0)\n",
    "            dt['answers'] = new_answers"
   ]
  },
  {
   "cell_type": "code",
   "execution_count": 16,
   "metadata": {},
   "outputs": [],
   "source": [
    "player_scores = torch.nn.Parameter(torch.randn(len(player_id_to_num)).float())\n",
    "data_train = []\n",
    "for result in results_train:\n",
    "    answers = torch.FloatTensor(expect_answers_naive(result))\n",
    "    question_scores = torch.nn.Parameter(torch.randn(answers.shape[1]).float())\n",
    "    player_nums = []\n",
    "    for team in result:\n",
    "        player_nums += [player_id_to_num[p_id] for p_id in team['teamMembers']]\n",
    "    player_nums = torch.tensor(player_nums)\n",
    "    data_train.append({\n",
    "        'answers': answers,\n",
    "        'question_scores': question_scores,\n",
    "        'player_nums': player_nums,\n",
    "    })"
   ]
  },
  {
   "cell_type": "code",
   "execution_count": 17,
   "metadata": {},
   "outputs": [],
   "source": [
    "params = [player_scores] + [dt['question_scores'] for dt in data_train]\n",
    "opt = torch.optim.Adam(params, lr=1e-1)"
   ]
  },
  {
   "cell_type": "code",
   "execution_count": 18,
   "metadata": {},
   "outputs": [
    {
     "data": {
      "image/png": "[encoded data removed]",
      "text/plain": [
       "<Figure size 432x288 with 1 Axes>"
      ]
     },
     "metadata": {
      "needs_background": "light"
     },
     "output_type": "display_data"
    }
   ],
   "source": [
    "initial_grad_norm = None\n",
    "max_em_iter = 10\n",
    "max_iter = 100\n",
    "eps = 1e-3\n",
    "    \n",
    "    \n",
    "history = defaultdict(list)\n",
    "\n",
    "for _ in range(max_em_iter):\n",
    "\n",
    "    for _ in range(max_iter):\n",
    "        opt.zero_grad()\n",
    "\n",
    "        player_scores.grad = full_grad(player_scores, data_train)\n",
    "\n",
    "        grad_norm = torch.sqrt(sum([(p.grad**2).sum() for p in params]))\n",
    "        if initial_grad_norm is None:\n",
    "            initial_grad_norm = grad_norm\n",
    "\n",
    "        opt.step()\n",
    "        if grad_norm/initial_grad_norm < eps:\n",
    "            break\n",
    "            \n",
    "    history['player_scores'].append(player_scores.detach().numpy())\n",
    "    history['question_scores'].append([dt['question_scores'].detach().numpy() for dt in data_train])\n",
    "        \n",
    "    update_answer_expectations(player_scores, data_train, results_train)\n",
    "    \n",
    "    av_question_scores = np.array([dt['question_scores'].detach().numpy().mean() for dt in data_train])\n",
    "    av_player_scores = np.array([player_scores[dt['player_nums']].detach().numpy().mean() for dt in data_train])\n",
    "    \n",
    "    history['av_question_scores'].append(av_question_scores)\n",
    "    history['av_player_scores'].append(av_player_scores)\n",
    "    \n",
    "    lin_reg = LinearRegression()\n",
    "    lin_reg.fit(av_player_scores[:,None], av_question_scores)\n",
    "\n",
    "    def predict_difficulty(av_player_score):\n",
    "        return lin_reg.coef_*av_player_score + lin_reg.intercept_\n",
    "    \n",
    "    history['diff_pred_coef_'].append(lin_reg.coef_)\n",
    "    history['diff_pred_intercept_'].append(lin_reg.intercept_)\n",
    "    \n",
    "    spearman_metric = compute_metric(history['player_scores'][-1], results_test, spearmanr, scores_to_ranks)\n",
    "    kendall_metric = compute_metric(history['player_scores'][-1], results_test, kendalltau, scores_to_ranks)\n",
    "    \n",
    "    history['spearman'].append(spearman_metric)\n",
    "    history['kendall'].append(kendall_metric)\n",
    "    \n",
    "    em_steps_done = len(history['spearman'])\n",
    "    \n",
    "    clear_output(True)\n",
    "    plt.title(\"Тестовые метрики\")\n",
    "    plt.xlabel(\"Шаг ЕМ алгоритма\")\n",
    "    plt.ylabel(\"Корреляция\")\n",
    "    plt.plot(range(em_steps_done), history['spearman'], label='Спирмен')\n",
    "    plt.plot(range(em_steps_done), history['kendall'], label='Кендалл')\n",
    "    plt.show()"
   ]
  },
  {
   "cell_type": "markdown",
   "metadata": {},
   "source": [
    "Целевые метрики и правда немного растут на первых итерациях."
   ]
  },
  {
   "cell_type": "code",
   "execution_count": 19,
   "metadata": {},
   "outputs": [],
   "source": [
    "best_iteration = 3\n",
    "model_output = {k:v[best_iteration] for k, v in history.items()}"
   ]
  },
  {
   "cell_type": "code",
   "execution_count": 23,
   "metadata": {},
   "outputs": [
    {
     "data": {
      "image/png": "[encoded data removed]",
      "text/plain": [
       "<Figure size 432x288 with 1 Axes>"
      ]
     },
     "metadata": {
      "needs_background": "light"
     },
     "output_type": "display_data"
    }
   ],
   "source": [
    "plt.scatter(model_output['av_question_scores'], model_output['av_player_scores'])\n",
    "plt.title('Распределение средних оценок игроков и вопросов в турнирах')\n",
    "plt.xlabel('Сложность вопросов')\n",
    "plt.ylabel('Сила игроков')\n",
    "plt.show()"
   ]
  },
  {
   "cell_type": "code",
   "execution_count": 24,
   "metadata": {},
   "outputs": [
    {
     "data": {
      "image/png": "[encoded data removed]",
      "text/plain": [
       "<Figure size 432x288 with 1 Axes>"
      ]
     },
     "metadata": {
      "needs_background": "light"
     },
     "output_type": "display_data"
    }
   ],
   "source": [
    "plt.title(\"Распределение силы игроков\")\n",
    "plt.hist(model_output['player_scores'])\n",
    "plt.show()"
   ]
  },
  {
   "cell_type": "code",
   "execution_count": 46,
   "metadata": {},
   "outputs": [],
   "source": [
    "tournament_diffs = dict()\n",
    "for tournament_id, question_scores in zip(results_train_ids, model_output['question_scores']):\n",
    "    if tournament_id not in tournament_diffs.keys():\n",
    "        tournament_diffs[tournament_id] = [0., 0]\n",
    "    tournament_diffs[tournament_id][0] += question_scores.sum()\n",
    "    tournament_diffs[tournament_id][1] += len(question_scores)\n",
    "tournament_diffs = {k: v[0]/v[1] for k, v in tournament_diffs.items()}\n",
    "tournament_diffs = list(sorted(tournament_diffs.items(), key=lambda item: item[1], reverse=True))"
   ]
  },
  {
   "cell_type": "code",
   "execution_count": 50,
   "metadata": {},
   "outputs": [],
   "source": [
    "with open('tournaments.pkl', 'rb') as fp:\n",
    "    tournaments_dict = pickle.load(fp)"
   ]
  },
  {
   "cell_type": "code",
   "execution_count": 55,
   "metadata": {},
   "outputs": [
    {
     "name": "stdout",
     "output_type": "stream",
     "text": [
      "diff = 6.675 Чемпионат Санкт-Петербурга. Первая лига\n",
      "diff = 3.332 Угрюмый Ёрш\n",
      "diff = 3.286 Синхрон высшей лиги Москвы\n",
      "diff = 3.116 Воображаемый музей\n",
      "diff = 3.051 Зеркало мемориала памяти Михаила Басса\n",
      "diff = 3.029 Первенство правого полушария\n",
      "diff = 2.991 Чемпионат Мира. Этап 2 Группа С\n",
      "diff = 2.866 Чемпионат Мира. Этап 2. Группа В\n",
      "diff = 2.787 Мемориал памяти Михаила Басса\n",
      "diff = 2.766 Знание – Сила VI\n"
     ]
    }
   ],
   "source": [
    "for k,v in tournament_diffs[:10]:\n",
    "    print(f\"diff = {v:.3f} \" + tournaments_dict[k]['name'])"
   ]
  },
  {
   "cell_type": "code",
   "execution_count": 56,
   "metadata": {},
   "outputs": [
    {
     "name": "stdout",
     "output_type": "stream",
     "text": [
      "diff = -1.137 Школьная лига\n",
      "diff = -1.173 (а)Синхрон-lite. Лига старта. Эпизод IX\n",
      "diff = -1.189 Школьная лига. II тур.\n",
      "diff = -1.351 Школьный Синхрон-lite. Выпуск 2.5\n",
      "diff = -1.382 Школьная лига. I тур.\n",
      "diff = -1.393 Школьная лига. III тур.\n",
      "diff = -1.407 (а)Синхрон-lite. Лига старта. Эпизод V\n",
      "diff = -1.409 Студенческий чемпионат Калининградской области\n",
      "diff = -1.414 Асинхрон по South Park\n",
      "diff = -1.724 Синхрон Лиги Разума\n"
     ]
    }
   ],
   "source": [
    "for k,v in tournament_diffs[-10:]:\n",
    "    print(f\"diff = {v:.3f} \" + tournaments_dict[k]['name'])"
   ]
  }
 ],
 "metadata": {
  "kernelspec": {
   "display_name": "Python 3",
   "language": "python",
   "name": "python3"
  },
  "language_info": {
   "codemirror_mode": {
    "name": "ipython",
    "version": 3
   },
   "file_extension": ".py",
   "mimetype": "text/x-python",
   "name": "python",
   "nbconvert_exporter": "python",
   "pygments_lexer": "ipython3",
   "version": "3.8.3"
  }
 },
 "nbformat": 4,
 "nbformat_minor": 4
}
